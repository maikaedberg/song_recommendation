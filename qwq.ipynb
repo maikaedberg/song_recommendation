{
 "cells": [
  {
   "cell_type": "markdown",
   "metadata": {},
   "source": [
    "Author: Wenqing Qu"
   ]
  },
  {
   "cell_type": "code",
   "execution_count": null,
   "metadata": {},
   "outputs": [],
   "source": [
    "import pandas as pd\n",
    "import numpy as np\n",
    "\n",
    "import sys\n",
    "import webbrowser\n",
    "\n",
    "from bs4 import BeautifulSoup\n",
    "import re\n",
    "import urllib.request, urllib.error\n",
    "import xlwt\n",
    "import sqlite3"
   ]
  },
  {
   "cell_type": "code",
   "execution_count": 2,
   "metadata": {},
   "outputs": [],
   "source": [
    "users=[]\n",
    "songs=[]\n",
    "tracks=[]\n",
    "msdids=[]\n",
    "artists=[]\n",
    "titles=[]\n",
    "\n",
    "with open('data/kaggle_users.txt','r') as f:\n",
    "    lines = f.readlines()\n",
    "    \n",
    "    for line in lines:\n",
    "        users.append(str(line))\n",
    "\n",
    "\n",
    "with open('data/kaggle_songs.txt','r') as f:\n",
    "    lines = f.readlines()\n",
    "    \n",
    "    for line in lines:\n",
    "        line.strip()\n",
    "        l=line.split()\n",
    "        songs.append(l)\n",
    "    \n",
    "with open('data/taste_profile_song_to_tracks.txt','r') as f:\n",
    "    lines = f.readlines()\n",
    "    \n",
    "    for line in lines:\n",
    "        line.strip()\n",
    "        l=line.split()\n",
    "        tracks.append(l)\n",
    "        \n",
    "with open('data/mxm_779k_matches.txt','r', encoding='utf-8') as f:\n",
    "    lines = f.readlines()\n",
    "    for i in range(18, len(lines)):\n",
    "        line = lines[i].split('<SEP>')\n",
    "        MSDID = line[0]\n",
    "        artist = line[1]\n",
    "        title = line[2]\n",
    "        msdids.append(MSDID)\n",
    "        artists.append(artist)\n",
    "        titles.append(title)\n",
    "        "
   ]
  },
  {
   "cell_type": "code",
   "execution_count": 3,
   "metadata": {},
   "outputs": [
    {
     "name": "stdout",
     "output_type": "stream",
     "text": [
      "['Karkkiautomaatti', 'Hudson Mohawke', 'Yerba Brava', 'David Montgomery', 'Kris Kross'] \n",
      " ['Tanssi vaan', 'No One Could Ever', 'Si Vos Querés', 'Symphony No. 1 G minor \"Sinfonie Serieuse\"/Allegro con energia', \"2 Da Beat Ch'yall\"]\n"
     ]
    }
   ],
   "source": [
    "print(artists[:5],'\\n',titles[:5])"
   ]
  },
  {
   "cell_type": "code",
   "execution_count": 4,
   "metadata": {},
   "outputs": [],
   "source": [
    "#抓取单一URL内容\n",
    "def askURL(url):\n",
    "    user_agent='Mozilla/5.0 (Windows NT 6.1) AppleWebKit/537.13 (KHTML, like Gecko) Chrome/24.0.1284.0 Safari/537.13' \n",
    "    headers={'User-Agent':user_agent} \n",
    "    req=urllib.request.Request(url=url,headers=headers)\n",
    "    try:\n",
    "        response = urllib.request.urlopen(url,timeout=1)\n",
    "        html=response.read().decode('utf-8')\n",
    "        return html\n",
    "    except urllib.error.URLError as e :\n",
    "        if hasattr(e,'code'):\n",
    "            print(e.code)\n",
    "        if hasattr(e,'reason'):\n",
    "            print(e.reason)\n",
    "    return 0"
   ]
  },
  {
   "cell_type": "code",
   "execution_count": 5,
   "metadata": {},
   "outputs": [],
   "source": [
    "def openweb(song):\n",
    "    sys.path.append(\"libs\") \n",
    "    baseurl='https://music.youtube.com/search?q='\n",
    "    song=str(song)\n",
    "    song=song.replace(' ','+')\n",
    "    url=baseurl+song\n",
    "    \n",
    "    webbrowser.open(url)"
   ]
  },
  {
   "cell_type": "code",
   "execution_count": 6,
   "metadata": {},
   "outputs": [],
   "source": [
    "html=askURL('https://www.youtube.com/results?search_query=Tanssi+vaan')\n",
    "openweb('Tanssi vaan')\n",
    "with open('./test.html','w',encoding='utf-8') as f:\n",
    "    f.write(html)"
   ]
  },
  {
   "cell_type": "code",
   "execution_count": 7,
   "metadata": {},
   "outputs": [],
   "source": [
    "def getData():\n",
    "    datalist=[]\n",
    "    baseurl='https://music.youtube.com/search?q='\n",
    "    for i in range(len(artists)):\n",
    "        name=str(artists[i])\n",
    "        name=name.replace(' ','+')\n",
    "        print\n",
    "        url=baseurl+name\n",
    "        html=askURL(url)\n",
    "        datalist.append(html)\n",
    "    return datalist"
   ]
  },
  {
   "cell_type": "code",
   "execution_count": null,
   "metadata": {},
   "outputs": [],
   "source": []
  },
  {
   "cell_type": "code",
   "execution_count": null,
   "metadata": {},
   "outputs": [],
   "source": []
  }
 ],
 "metadata": {
  "kernelspec": {
   "display_name": "Python 3",
   "language": "python",
   "name": "python3"
  },
  "language_info": {
   "codemirror_mode": {
    "name": "ipython",
    "version": 3
   },
   "file_extension": ".py",
   "mimetype": "text/x-python",
   "name": "python",
   "nbconvert_exporter": "python",
   "pygments_lexer": "ipython3",
   "version": "3.8.5"
  }
 },
 "nbformat": 4,
 "nbformat_minor": 4
}
